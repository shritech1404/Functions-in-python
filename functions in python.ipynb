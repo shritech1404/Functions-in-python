{
    "cells": [
        {
            "cell_type": "code",
            "execution_count": 3,
            "source": [
                "def hello_world():\r\n",
                "    return \"my name is shrikant\""
            ],
            "outputs": [],
            "metadata": {}
        },
        {
            "cell_type": "code",
            "execution_count": 4,
            "source": [
                "val = hello_world()"
            ],
            "outputs": [],
            "metadata": {}
        },
        {
            "cell_type": "code",
            "execution_count": 5,
            "source": [
                "val"
            ],
            "outputs": [
                {
                    "output_type": "execute_result",
                    "data": {
                        "text/plain": [
                            "'my name is shrikant'"
                        ]
                    },
                    "metadata": {},
                    "execution_count": 5
                }
            ],
            "metadata": {}
        },
        {
            "cell_type": "code",
            "execution_count": 6,
            "source": [
                "def sum(num1, num2):\r\n",
                "    return num1 + num2"
            ],
            "outputs": [],
            "metadata": {}
        },
        {
            "cell_type": "code",
            "execution_count": 7,
            "source": [
                "sum(20, 60)"
            ],
            "outputs": [
                {
                    "output_type": "execute_result",
                    "data": {
                        "text/plain": [
                            "80"
                        ]
                    },
                    "metadata": {},
                    "execution_count": 7
                }
            ],
            "metadata": {}
        },
        {
            "cell_type": "code",
            "execution_count": 8,
            "source": [
                "def add(name, age):\r\n",
                "    print(\"my name is {} and my age is {}\".format(name, age))"
            ],
            "outputs": [],
            "metadata": {}
        },
        {
            "cell_type": "code",
            "execution_count": 9,
            "source": [
                "add(\"shrikant\", 20)"
            ],
            "outputs": [
                {
                    "output_type": "stream",
                    "name": "stdout",
                    "text": [
                        "my name is shrikant and my age is 20\n"
                    ]
                }
            ],
            "metadata": {}
        },
        {
            "cell_type": "code",
            "execution_count": 10,
            "source": [
                "def div(num):\r\n",
                "    if num%2==0:\r\n",
                "        print(\"The given number is even\")\r\n",
                "    else:\r\n",
                "        print(\"The given number is odd\")"
            ],
            "outputs": [],
            "metadata": {}
        },
        {
            "cell_type": "code",
            "execution_count": 11,
            "source": [
                "div(21)"
            ],
            "outputs": [
                {
                    "output_type": "stream",
                    "name": "stdout",
                    "text": [
                        "The given number is odd\n"
                    ]
                }
            ],
            "metadata": {}
        },
        {
            "cell_type": "code",
            "execution_count": 12,
            "source": [
                "lst=[1,2,3,4,5,6,7,8,9]\r\n",
                "\r\n",
                "def evenoddsum(lst):\r\n",
                "    even_sum=0\r\n",
                "    odd_sum=0\r\n",
                "    for i in lst:\r\n",
                "        if i%2==0:\r\n",
                "            even_sum=even_sum + i \r\n",
                "        else:\r\n",
                "            odd_sum=odd_sum + i\r\n",
                "    return even_sum, odd_sum\r\n"
            ],
            "outputs": [],
            "metadata": {}
        },
        {
            "cell_type": "code",
            "execution_count": 13,
            "source": [
                "evenoddsum(lst)"
            ],
            "outputs": [
                {
                    "output_type": "execute_result",
                    "data": {
                        "text/plain": [
                            "(20, 25)"
                        ]
                    },
                    "metadata": {},
                    "execution_count": 13
                }
            ],
            "metadata": {}
        },
        {
            "cell_type": "code",
            "execution_count": 14,
            "source": [
                "def greet(name):\r\n",
                "    print(\"Hello {} Good Morning...!!\".format(name))"
            ],
            "outputs": [],
            "metadata": {}
        },
        {
            "cell_type": "code",
            "execution_count": 15,
            "source": [
                "greet(\"Shrikant\")"
            ],
            "outputs": [
                {
                    "output_type": "stream",
                    "name": "stdout",
                    "text": [
                        "Hello Shrikant Good Morning...!!\n"
                    ]
                }
            ],
            "metadata": {}
        },
        {
            "cell_type": "code",
            "execution_count": 20,
            "source": [
                "def nm(*name):\r\n",
                "    for names in name:\r\n",
                "        print(\"Hello {}\".format(names))\r\n"
            ],
            "outputs": [],
            "metadata": {}
        },
        {
            "cell_type": "code",
            "execution_count": 21,
            "source": [
                "nm(\"Shrikant\", \"Amol\", \"Gaurav\", \"Saurabh\", \"Sanket\")"
            ],
            "outputs": [
                {
                    "output_type": "stream",
                    "name": "stdout",
                    "text": [
                        "Hello Shrikant\n",
                        "Hello Amol\n",
                        "Hello Gaurav\n",
                        "Hello Saurabh\n",
                        "Hello Sanket\n"
                    ]
                }
            ],
            "metadata": {}
        },
        {
            "cell_type": "code",
            "execution_count": 28,
            "source": [
                "def arg_ex(**info):\r\n",
                "    print(\"Data type  of given argument : \", type(info))\r\n",
                "\r\n",
                "    for key, value in info.items():\r\n",
                "        print(\"{} is {}\".format(key, value))\r\n",
                "\r\n",
                "\r\n",
                "\r\n",
                "arg_ex(Name=\"Shrikant\", DOB=2001, Place=\"Andharwadi\", EMail=\"shrikantshejwal12345@gmail.com\", phone_no = 7721992119)"
            ],
            "outputs": [
                {
                    "output_type": "stream",
                    "name": "stdout",
                    "text": [
                        "Data type  of given argument :  <class 'dict'>\n",
                        "Name is Shrikant\n",
                        "DOB is 2001\n",
                        "Place is Andharwadi\n",
                        "EMail is shrikantshejwal12345@gmail.com\n",
                        "phone_no is 7721992119\n"
                    ]
                }
            ],
            "metadata": {}
        },
        {
            "cell_type": "markdown",
            "source": [
                "### Lambda Function"
            ],
            "metadata": {}
        },
        {
            "cell_type": "code",
            "execution_count": 31,
            "source": [
                "add = lambda a,b : a+b\r\n",
                "\r\n",
                "add(2, 4)"
            ],
            "outputs": [
                {
                    "output_type": "execute_result",
                    "data": {
                        "text/plain": [
                            "6"
                        ]
                    },
                    "metadata": {},
                    "execution_count": 31
                }
            ],
            "metadata": {}
        },
        {
            "cell_type": "code",
            "execution_count": 32,
            "source": [
                "even = lambda num : num%2==0\r\n",
                "\r\n",
                "even(10)"
            ],
            "outputs": [
                {
                    "output_type": "execute_result",
                    "data": {
                        "text/plain": [
                            "True"
                        ]
                    },
                    "metadata": {},
                    "execution_count": 32
                }
            ],
            "metadata": {}
        },
        {
            "cell_type": "markdown",
            "source": [
                "### map function"
            ],
            "metadata": {}
        },
        {
            "cell_type": "code",
            "execution_count": 36,
            "source": [
                "def sum(num):\r\n",
                "    if num%2==0:\r\n",
                "        return \"The number {} is even\".format(num)\r\n",
                "    else:\r\n",
                "        return \"The number {} is odd\".format(num)\r\n",
                "\r\n",
                "lst = [1,2,3,4,5,6,7,8,9,0,12,34,56,87,90,24]\r\n",
                "\r\n",
                "list(map(sum, lst))"
            ],
            "outputs": [
                {
                    "output_type": "execute_result",
                    "data": {
                        "text/plain": [
                            "['The number 1 is odd',\n",
                            " 'The number 2 is even',\n",
                            " 'The number 3 is odd',\n",
                            " 'The number 4 is even',\n",
                            " 'The number 5 is odd',\n",
                            " 'The number 6 is even',\n",
                            " 'The number 7 is odd',\n",
                            " 'The number 8 is even',\n",
                            " 'The number 9 is odd',\n",
                            " 'The number 0 is even',\n",
                            " 'The number 12 is even',\n",
                            " 'The number 34 is even',\n",
                            " 'The number 56 is even',\n",
                            " 'The number 87 is odd',\n",
                            " 'The number 90 is even',\n",
                            " 'The number 24 is even']"
                        ]
                    },
                    "metadata": {},
                    "execution_count": 36
                }
            ],
            "metadata": {}
        },
        {
            "cell_type": "code",
            "execution_count": null,
            "source": [],
            "outputs": [],
            "metadata": {}
        }
    ],
    "metadata": {
        "orig_nbformat": 4,
        "language_info": {
            "name": "python",
            "version": "3.9.6",
            "mimetype": "text/x-python",
            "codemirror_mode": {
                "name": "ipython",
                "version": 3
            },
            "pygments_lexer": "ipython3",
            "nbconvert_exporter": "python",
            "file_extension": ".py"
        },
        "kernelspec": {
            "name": "python3",
            "display_name": "Python 3.9.6 64-bit"
        },
        "interpreter": {
            "hash": "a12d694c3ccac42055183a0ad11e659c6a2db5c6555ad2c8919d5814fd4e404f"
        }
    },
    "nbformat": 4,
    "nbformat_minor": 2
}